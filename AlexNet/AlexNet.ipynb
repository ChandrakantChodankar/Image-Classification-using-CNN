{
 "cells": [
  {
   "cell_type": "code",
   "execution_count": null,
   "metadata": {
    "id": "4QfhD2SJ3zR1"
   },
   "outputs": [],
   "source": [
    "#@title AlexNet"
   ]
  },
  {
   "cell_type": "code",
   "execution_count": null,
   "metadata": {},
   "outputs": [],
   "source": [
    "#@title Connect to google drive \n",
    "from google.colab import drive\n",
    "drive.mount('/content/drive')"
   ]
  },
  {
   "cell_type": "code",
   "execution_count": 1,
   "metadata": {
    "id": "Ho0Ec6SBFodK"
   },
   "outputs": [],
   "source": [
    "import os\n",
    "import keras\n",
    "import pathlib\n",
    "import numpy as np\n",
    "import pandas as pd\n",
    "import tensorflow as tf\n",
    "import keras.utils as image\n",
    "from keras.models import Model\n",
    "import matplotlib.pyplot as plt\n",
    "import matplotlib.image as mpimg\n",
    "from keras.models import Sequential\n",
    "from keras.preprocessing import image\n",
    "from keras.callbacks import ModelCheckpoint\n",
    "from tensorflow.keras.optimizers import Adam\n",
    "from tensorflow.keras.models import load_model\n",
    "from tensorflow.keras.preprocessing import image\n",
    "from tensorflow.keras.layers import Dense, Activation, Dropout, Flatten,Conv2D, MaxPooling2D,BatchNormalization"
   ]
  },
  {
   "cell_type": "code",
   "execution_count": 2,
   "metadata": {
    "id": "2Il9GyIKFoT9"
   },
   "outputs": [],
   "source": [
    "#@title Preparing The Data\n",
    "data_dir=\"C:/Users/chand/Documents/Visual_Studio/Project/Classification/Dataset/640A/cashew/train\"\n",
    "data_dir = pathlib.Path(data_dir)"
   ]
  },
  {
   "cell_type": "code",
   "execution_count": 3,
   "metadata": {
    "colab": {
     "base_uri": "https://localhost:8080/"
    },
    "id": "z22HHpPHHGTf",
    "outputId": "d659c411-5b69-40d5-ee49-bb2ea489913d"
   },
   "outputs": [
    {
     "name": "stdout",
     "output_type": "stream",
     "text": [
      "Found 5670 files belonging to 3 classes.\n",
      "Using 4536 files for training.\n"
     ]
    }
   ],
   "source": [
    "img_height,img_width=224,224\n",
    "batch_size=32\n",
    "train_ds = tf.keras.preprocessing.image_dataset_from_directory(\n",
    "  data_dir,\n",
    "  validation_split=0.2,\n",
    "  subset=\"training\",\n",
    "  seed=123,\n",
    "  label_mode='categorical',\n",
    "  image_size=(img_height, img_width),\n",
    "  batch_size=batch_size)"
   ]
  },
  {
   "cell_type": "code",
   "execution_count": 4,
   "metadata": {
    "colab": {
     "base_uri": "https://localhost:8080/"
    },
    "id": "foxm4cd1HGP8",
    "outputId": "c36b4f5d-7578-4219-e248-3e7924edb0a9"
   },
   "outputs": [
    {
     "name": "stdout",
     "output_type": "stream",
     "text": [
      "Found 5670 files belonging to 3 classes.\n",
      "Using 1134 files for validation.\n"
     ]
    }
   ],
   "source": [
    "val_ds = tf.keras.preprocessing.image_dataset_from_directory(\n",
    "  data_dir,\n",
    "  validation_split=0.2,\n",
    "  subset=\"validation\",\n",
    "  seed=123,\n",
    "  label_mode='categorical',\n",
    "  image_size=(img_height, img_width),\n",
    "  batch_size=batch_size)"
   ]
  },
  {
   "cell_type": "code",
   "execution_count": 5,
   "metadata": {
    "colab": {
     "base_uri": "https://localhost:8080/"
    },
    "id": "1DVVqLKuHGKN",
    "outputId": "0619260d-682c-4ed9-c764-24cb2fcfc45c"
   },
   "outputs": [
    {
     "name": "stdout",
     "output_type": "stream",
     "text": [
      "['Overripe', 'Ripe', 'Unripe']\n"
     ]
    }
   ],
   "source": [
    "class_names = train_ds.class_names\n",
    "print(class_names)"
   ]
  },
  {
   "cell_type": "code",
   "execution_count": 6,
   "metadata": {
    "colab": {
     "base_uri": "https://localhost:8080/",
     "height": 863
    },
    "id": "KYF2ApZW33f1",
    "outputId": "111d4fae-933b-46a3-f2ed-091ffa6e92c0"
   },
   "outputs": [],
   "source": [
    "#@title AlexNet Model preparing\n",
    "# put how many classes in number\n",
    "num_classes = 3\n",
    "model=Sequential()\n",
    "\n",
    "#1 conv layer\n",
    "model.add(Conv2D(filters=96,kernel_size=(11,11),strides=(4,4),padding=\"valid\",activation=\"relu\",input_shape=(224,224,3)))\n",
    "\n",
    "#1 max pool layer\n",
    "model.add(MaxPooling2D(pool_size=(3,3),strides=(2,2)))\n",
    "\n",
    "model.add(BatchNormalization())\n",
    "\n",
    "#2 conv layer\n",
    "model.add(Conv2D(filters=256,kernel_size=(5,5),strides=(1,1),padding=\"valid\",activation=\"relu\"))\n",
    "\n",
    "#2 max pool layer\n",
    "model.add(MaxPooling2D(pool_size=(3,3),strides=(2,2)))\n",
    "\n",
    "model.add(BatchNormalization())\n",
    "\n",
    "#3 conv layer\n",
    "model.add(Conv2D(filters=384,kernel_size=(3,3),strides=(1,1),padding=\"valid\",activation=\"relu\"))\n",
    "\n",
    "#4 conv layer\n",
    "model.add(Conv2D(filters=384,kernel_size=(3,3),strides=(1,1),padding=\"valid\",activation=\"relu\"))\n",
    "\n",
    "#5 conv layer\n",
    "model.add(Conv2D(filters=256,kernel_size=(3,3),strides=(1,1),padding=\"valid\",activation=\"relu\"))\n",
    "\n",
    "#3 max pool layer\n",
    "model.add(MaxPooling2D(pool_size=(3,3),strides=(2,2)))\n",
    "\n",
    "model.add(BatchNormalization())\n",
    "\n",
    "\n",
    "model.add(Flatten())\n",
    "\n",
    "#1 dense layer\n",
    "model.add(Dense(4096,input_shape=(224,224,3),activation=\"relu\"))\n",
    "\n",
    "model.add(Dropout(0.4))\n",
    "\n",
    "model.add(BatchNormalization())\n",
    "\n",
    "#2 dense layer\n",
    "model.add(Dense(4096,activation=\"relu\"))\n",
    "\n",
    "model.add(Dropout(0.4))\n",
    "\n",
    "model.add(BatchNormalization())\n",
    "\n",
    "#3 dense layer\n",
    "model.add(Dense(1000,activation=\"relu\"))\n",
    "\n",
    "model.add(Dropout(0.4))\n",
    "\n",
    "model.add(BatchNormalization())\n",
    "\n",
    "#output layer\n",
    "model.add(Dense(num_classes,activation=\"softmax\"))"
   ]
  },
  {
   "cell_type": "code",
   "execution_count": 7,
   "metadata": {
    "id": "NWK6-4YMHe5t"
   },
   "outputs": [],
   "source": [
    "epoch=50\n",
    "\n",
    "my_callbacks = [\n",
    "    # save logs while training in csv file\n",
    "    keras.callbacks.CSVLogger('C:/Users/chand/Documents/Github/AlexNet/Logs/log.csv', separator=\",\", append=False),\n",
    "    # keras.callbacks.EarlyStopping(monitor=\"val_loss\",patience=5)\n",
    "    ]"
   ]
  },
  {
   "cell_type": "code",
   "execution_count": 8,
   "metadata": {
    "colab": {
     "base_uri": "https://localhost:8080/"
    },
    "id": "UCVEuSGfYMP1",
    "outputId": "23497b0b-6f51-47f8-eb5f-201f805d2f5d"
   },
   "outputs": [
    {
     "name": "stdout",
     "output_type": "stream",
     "text": [
      "Model: \"sequential\"\n",
      "_________________________________________________________________\n",
      " Layer (type)                Output Shape              Param #   \n",
      "=================================================================\n",
      " conv2d (Conv2D)             (None, 54, 54, 96)        34944     \n",
      "                                                                 \n",
      " max_pooling2d (MaxPooling2D  (None, 26, 26, 96)       0         \n",
      " )                                                               \n",
      "                                                                 \n",
      " batch_normalization (BatchN  (None, 26, 26, 96)       384       \n",
      " ormalization)                                                   \n",
      "                                                                 \n",
      " conv2d_1 (Conv2D)           (None, 22, 22, 256)       614656    \n",
      "                                                                 \n",
      " max_pooling2d_1 (MaxPooling  (None, 10, 10, 256)      0         \n",
      " 2D)                                                             \n",
      "                                                                 \n",
      " batch_normalization_1 (Batc  (None, 10, 10, 256)      1024      \n",
      " hNormalization)                                                 \n",
      "                                                                 \n",
      " conv2d_2 (Conv2D)           (None, 8, 8, 384)         885120    \n",
      "                                                                 \n",
      " conv2d_3 (Conv2D)           (None, 6, 6, 384)         1327488   \n",
      "                                                                 \n",
      " conv2d_4 (Conv2D)           (None, 4, 4, 256)         884992    \n",
      "                                                                 \n",
      " max_pooling2d_2 (MaxPooling  (None, 1, 1, 256)        0         \n",
      " 2D)                                                             \n",
      "                                                                 \n",
      " batch_normalization_2 (Batc  (None, 1, 1, 256)        1024      \n",
      " hNormalization)                                                 \n",
      "                                                                 \n",
      " flatten (Flatten)           (None, 256)               0         \n",
      "                                                                 \n",
      " dense (Dense)               (None, 4096)              1052672   \n",
      "                                                                 \n",
      " dropout (Dropout)           (None, 4096)              0         \n",
      "                                                                 \n",
      " batch_normalization_3 (Batc  (None, 4096)             16384     \n",
      " hNormalization)                                                 \n",
      "                                                                 \n",
      " dense_1 (Dense)             (None, 4096)              16781312  \n",
      "                                                                 \n",
      " dropout_1 (Dropout)         (None, 4096)              0         \n",
      "                                                                 \n",
      " batch_normalization_4 (Batc  (None, 4096)             16384     \n",
      " hNormalization)                                                 \n",
      "                                                                 \n",
      " dense_2 (Dense)             (None, 1000)              4097000   \n",
      "                                                                 \n",
      " dropout_2 (Dropout)         (None, 1000)              0         \n",
      "                                                                 \n",
      " batch_normalization_5 (Batc  (None, 1000)             4000      \n",
      " hNormalization)                                                 \n",
      "                                                                 \n",
      " dense_3 (Dense)             (None, 3)                 3003      \n",
      "                                                                 \n",
      "=================================================================\n",
      "Total params: 25,720,387\n",
      "Trainable params: 25,700,787\n",
      "Non-trainable params: 19,600\n",
      "_________________________________________________________________\n"
     ]
    }
   ],
   "source": [
    "model.summary()"
   ]
  },
  {
   "cell_type": "code",
   "execution_count": 9,
   "metadata": {
    "id": "-33AQIV6YN92"
   },
   "outputs": [],
   "source": [
    "# Compile the model\n",
    "model.compile(optimizer=Adam(learning_rate=0.001),\n",
    "              loss='categorical_crossentropy',\n",
    "              metrics = ['accuracy'])"
   ]
  },
  {
   "cell_type": "code",
   "execution_count": 10,
   "metadata": {
    "colab": {
     "base_uri": "https://localhost:8080/"
    },
    "id": "BIXv-9ZYCQxc",
    "outputId": "4cfdff0d-b615-40df-8867-a48e734887fd"
   },
   "outputs": [
    {
     "name": "stdout",
     "output_type": "stream",
     "text": [
      "Epoch 1/50\n",
      "142/142 [==============================] - 11s 40ms/step - loss: 1.0440 - accuracy: 0.6276 - val_loss: 8.7663 - val_accuracy: 0.3668\n",
      "Epoch 2/50\n",
      "142/142 [==============================] - 5s 35ms/step - loss: 0.7324 - accuracy: 0.6900 - val_loss: 0.7872 - val_accuracy: 0.7134\n",
      "Epoch 3/50\n",
      "142/142 [==============================] - 5s 36ms/step - loss: 0.6838 - accuracy: 0.7105 - val_loss: 1.7729 - val_accuracy: 0.5705\n",
      "Epoch 4/50\n",
      "142/142 [==============================] - 5s 36ms/step - loss: 0.6063 - accuracy: 0.7370 - val_loss: 0.6748 - val_accuracy: 0.7108\n",
      "Epoch 5/50\n",
      "142/142 [==============================] - 5s 38ms/step - loss: 0.5577 - accuracy: 0.7637 - val_loss: 1.2383 - val_accuracy: 0.6085\n",
      "Epoch 6/50\n",
      "142/142 [==============================] - 5s 38ms/step - loss: 0.5583 - accuracy: 0.7698 - val_loss: 0.7624 - val_accuracy: 0.7169\n",
      "Epoch 7/50\n",
      "142/142 [==============================] - 6s 39ms/step - loss: 0.5170 - accuracy: 0.7886 - val_loss: 1.3006 - val_accuracy: 0.6367\n",
      "Epoch 8/50\n",
      "142/142 [==============================] - 6s 39ms/step - loss: 0.4856 - accuracy: 0.7937 - val_loss: 4.3847 - val_accuracy: 0.4039\n",
      "Epoch 9/50\n",
      "142/142 [==============================] - 6s 39ms/step - loss: 0.4531 - accuracy: 0.8159 - val_loss: 1.2161 - val_accuracy: 0.6508\n",
      "Epoch 10/50\n",
      "142/142 [==============================] - 6s 44ms/step - loss: 0.4278 - accuracy: 0.8285 - val_loss: 0.6157 - val_accuracy: 0.7725\n",
      "Epoch 11/50\n",
      "142/142 [==============================] - 7s 47ms/step - loss: 0.4153 - accuracy: 0.8347 - val_loss: 1.3711 - val_accuracy: 0.6614\n",
      "Epoch 12/50\n",
      "142/142 [==============================] - 7s 48ms/step - loss: 0.3860 - accuracy: 0.8466 - val_loss: 1.3099 - val_accuracy: 0.6658\n",
      "Epoch 13/50\n",
      "142/142 [==============================] - 7s 46ms/step - loss: 0.3405 - accuracy: 0.8631 - val_loss: 1.3131 - val_accuracy: 0.6190\n",
      "Epoch 14/50\n",
      "142/142 [==============================] - 7s 49ms/step - loss: 0.2989 - accuracy: 0.8799 - val_loss: 0.6024 - val_accuracy: 0.7751\n",
      "Epoch 15/50\n",
      "142/142 [==============================] - 8s 52ms/step - loss: 0.3309 - accuracy: 0.8737 - val_loss: 0.8711 - val_accuracy: 0.6332\n",
      "Epoch 16/50\n",
      "142/142 [==============================] - 7s 52ms/step - loss: 0.2930 - accuracy: 0.8847 - val_loss: 1.2118 - val_accuracy: 0.6658\n",
      "Epoch 17/50\n",
      "142/142 [==============================] - 8s 54ms/step - loss: 0.2949 - accuracy: 0.8858 - val_loss: 1.2906 - val_accuracy: 0.6437\n",
      "Epoch 18/50\n",
      "142/142 [==============================] - 9s 60ms/step - loss: 0.2567 - accuracy: 0.9021 - val_loss: 0.7463 - val_accuracy: 0.7549\n",
      "Epoch 19/50\n",
      "142/142 [==============================] - 9s 59ms/step - loss: 0.2501 - accuracy: 0.9114 - val_loss: 1.1703 - val_accuracy: 0.6975\n",
      "Epoch 20/50\n",
      "142/142 [==============================] - 8s 57ms/step - loss: 0.2361 - accuracy: 0.9090 - val_loss: 1.0205 - val_accuracy: 0.7425\n",
      "Epoch 21/50\n",
      "142/142 [==============================] - 9s 62ms/step - loss: 0.2380 - accuracy: 0.9087 - val_loss: 1.4732 - val_accuracy: 0.6367\n",
      "Epoch 22/50\n",
      "142/142 [==============================] - 9s 62ms/step - loss: 0.3563 - accuracy: 0.8640 - val_loss: 1.5564 - val_accuracy: 0.6940\n",
      "Epoch 23/50\n",
      "142/142 [==============================] - 9s 66ms/step - loss: 0.3559 - accuracy: 0.8571 - val_loss: 0.4467 - val_accuracy: 0.8298\n",
      "Epoch 24/50\n",
      "142/142 [==============================] - 9s 63ms/step - loss: 0.2946 - accuracy: 0.8869 - val_loss: 0.9196 - val_accuracy: 0.7196\n",
      "Epoch 25/50\n",
      "142/142 [==============================] - 9s 63ms/step - loss: 0.3224 - accuracy: 0.8746 - val_loss: 2.1287 - val_accuracy: 0.5520\n",
      "Epoch 26/50\n",
      "142/142 [==============================] - 10s 70ms/step - loss: 0.2660 - accuracy: 0.9034 - val_loss: 0.7193 - val_accuracy: 0.7522\n",
      "Epoch 27/50\n",
      "142/142 [==============================] - 10s 71ms/step - loss: 0.2240 - accuracy: 0.9134 - val_loss: 0.5754 - val_accuracy: 0.8351\n",
      "Epoch 28/50\n",
      "142/142 [==============================] - 10s 67ms/step - loss: 0.2003 - accuracy: 0.9242 - val_loss: 0.6178 - val_accuracy: 0.7919\n",
      "Epoch 29/50\n",
      "142/142 [==============================] - 10s 73ms/step - loss: 0.1588 - accuracy: 0.9427 - val_loss: 0.4232 - val_accuracy: 0.8845\n",
      "Epoch 30/50\n",
      "142/142 [==============================] - 11s 75ms/step - loss: 0.1566 - accuracy: 0.9460 - val_loss: 0.4747 - val_accuracy: 0.8483\n",
      "Epoch 31/50\n",
      "142/142 [==============================] - 10s 72ms/step - loss: 0.1455 - accuracy: 0.9486 - val_loss: 1.9158 - val_accuracy: 0.5564\n",
      "Epoch 32/50\n",
      "142/142 [==============================] - 10s 73ms/step - loss: 0.1929 - accuracy: 0.9336 - val_loss: 1.4864 - val_accuracy: 0.6587\n",
      "Epoch 33/50\n",
      "142/142 [==============================] - 12s 81ms/step - loss: 0.1775 - accuracy: 0.9321 - val_loss: 1.2004 - val_accuracy: 0.6861\n",
      "Epoch 34/50\n",
      "142/142 [==============================] - 11s 75ms/step - loss: 0.1260 - accuracy: 0.9568 - val_loss: 0.8873 - val_accuracy: 0.7787\n",
      "Epoch 35/50\n",
      "142/142 [==============================] - 12s 83ms/step - loss: 0.1303 - accuracy: 0.9537 - val_loss: 0.4550 - val_accuracy: 0.8580\n",
      "Epoch 36/50\n",
      "142/142 [==============================] - 12s 82ms/step - loss: 0.1051 - accuracy: 0.9652 - val_loss: 0.6171 - val_accuracy: 0.8342\n",
      "Epoch 37/50\n",
      "142/142 [==============================] - 12s 85ms/step - loss: 0.0903 - accuracy: 0.9683 - val_loss: 0.6716 - val_accuracy: 0.8386\n",
      "Epoch 38/50\n",
      "142/142 [==============================] - 11s 77ms/step - loss: 0.1019 - accuracy: 0.9641 - val_loss: 0.4362 - val_accuracy: 0.8695\n",
      "Epoch 39/50\n",
      "142/142 [==============================] - 11s 78ms/step - loss: 0.1757 - accuracy: 0.9389 - val_loss: 0.4663 - val_accuracy: 0.8369\n",
      "Epoch 40/50\n",
      "142/142 [==============================] - 12s 81ms/step - loss: 0.1287 - accuracy: 0.9561 - val_loss: 0.4366 - val_accuracy: 0.8554\n",
      "Epoch 41/50\n",
      "142/142 [==============================] - 12s 86ms/step - loss: 0.1013 - accuracy: 0.9647 - val_loss: 0.5509 - val_accuracy: 0.8422\n",
      "Epoch 42/50\n",
      "142/142 [==============================] - 12s 83ms/step - loss: 0.0757 - accuracy: 0.9744 - val_loss: 1.0126 - val_accuracy: 0.7663\n",
      "Epoch 43/50\n",
      "142/142 [==============================] - 13s 90ms/step - loss: 0.0755 - accuracy: 0.9749 - val_loss: 0.4204 - val_accuracy: 0.8959\n",
      "Epoch 44/50\n",
      "142/142 [==============================] - 11s 80ms/step - loss: 0.0608 - accuracy: 0.9784 - val_loss: 0.5106 - val_accuracy: 0.8942\n",
      "Epoch 45/50\n",
      "142/142 [==============================] - 14s 98ms/step - loss: 0.0595 - accuracy: 0.9780 - val_loss: 1.2000 - val_accuracy: 0.7698\n",
      "Epoch 46/50\n",
      "142/142 [==============================] - 11s 77ms/step - loss: 0.0831 - accuracy: 0.9744 - val_loss: 0.6914 - val_accuracy: 0.8377\n",
      "Epoch 47/50\n",
      "142/142 [==============================] - 9s 63ms/step - loss: 0.0644 - accuracy: 0.9764 - val_loss: 0.3474 - val_accuracy: 0.9171\n",
      "Epoch 48/50\n",
      "142/142 [==============================] - 9s 63ms/step - loss: 0.0611 - accuracy: 0.9782 - val_loss: 0.8063 - val_accuracy: 0.8554\n",
      "Epoch 49/50\n",
      "142/142 [==============================] - 8s 59ms/step - loss: 0.0711 - accuracy: 0.9749 - val_loss: 0.4958 - val_accuracy: 0.8854\n",
      "Epoch 50/50\n",
      "142/142 [==============================] - 8s 56ms/step - loss: 0.0621 - accuracy: 0.9795 - val_loss: 0.8046 - val_accuracy: 0.8333\n"
     ]
    }
   ],
   "source": [
    "#@title Train your model\n",
    "history = model.fit(train_ds,validation_data=val_ds,\n",
    "                    epochs=epoch,\n",
    "                    callbacks=[my_callbacks],\n",
    "                    batch_size=32,verbose=1)"
   ]
  },
  {
   "cell_type": "code",
   "execution_count": 11,
   "metadata": {
    "id": "Mayfw1yeoiSA"
   },
   "outputs": [],
   "source": [
    "#@title save final model\n",
    "model.save('C:/Users/chand/Documents/Github/AlexNet/Model/AlexNet.h5')"
   ]
  },
  {
   "cell_type": "code",
   "execution_count": 12,
   "metadata": {
    "colab": {
     "base_uri": "https://localhost:8080/",
     "height": 430
    },
    "id": "hkQPg3HVIEA_",
    "outputId": "fd00d204-0860-4cdf-d967-30db71303b82"
   },
   "outputs": [
    {
     "data": {
      "image/png": "[encoded data removed]",
      "text/plain": [
       "<Figure size 640x480 with 1 Axes>"
      ]
     },
     "metadata": {},
     "output_type": "display_data"
    }
   ],
   "source": [
    "#@title accuracy graph\n",
    "plt.plot(history.history['accuracy'], label='train acc')\n",
    "plt.plot(history.history['val_accuracy'], label='val acc')\n",
    "plt.legend()\n",
    "plt.title('Model Accuracy')\n",
    "plt.ylabel('Accuracy')\n",
    "plt.xlabel('Epochs')\n",
    "plt.legend(['train', 'validation'])\n",
    "plt.show()"
   ]
  },
  {
   "cell_type": "code",
   "execution_count": 13,
   "metadata": {
    "colab": {
     "base_uri": "https://localhost:8080/",
     "height": 430
    },
    "id": "jvuI4LQ7IFXh",
    "outputId": "bf1e2cf7-c41a-463c-fc52-ada6186b6c80"
   },
   "outputs": [
    {
     "data": {
      "image/png": "[encoded data removed]",
      "text/plain": [
       "<Figure size 640x480 with 1 Axes>"
      ]
     },
     "metadata": {},
     "output_type": "display_data"
    }
   ],
   "source": [
    "#@title loss graph\n",
    "plt.plot(history.history['loss'], label='train loss')\n",
    "plt.plot(history.history['val_loss'], label='val loss')\n",
    "plt.legend()\n",
    "plt.title('Model Loss')\n",
    "plt.ylabel('Loss')\n",
    "plt.xlabel('Epochs')\n",
    "plt.legend(['train', 'validation'])\n",
    "plt.show()"
   ]
  },
  {
   "cell_type": "markdown",
   "metadata": {},
   "source": [
    "# Confusion Matrix"
   ]
  },
  {
   "cell_type": "code",
   "execution_count": 3,
   "metadata": {},
   "outputs": [
    {
     "name": "stdout",
     "output_type": "stream",
     "text": [
      "Found 630 images belonging to 3 classes.\n"
     ]
    }
   ],
   "source": [
    "image_generator = keras.preprocessing.image.ImageDataGenerator()\n",
    "test_data=\"C:/Users/chand/Documents/Visual_Studio/Project/Classification/Dataset/640A/cashew/test\"\n",
    "test_image_data  = image_generator.flow_from_directory(test_data,target_size=(224,224), batch_size=700)"
   ]
  },
  {
   "cell_type": "code",
   "execution_count": 4,
   "metadata": {},
   "outputs": [
    {
     "name": "stdout",
     "output_type": "stream",
     "text": [
      "Image batch shape:  (630, 224, 224, 3)\n",
      "Label batch shape:  (630, 3)\n"
     ]
    }
   ],
   "source": [
    "for image_batch, label_batch in test_image_data:\n",
    "    print(\"Image batch shape: \", image_batch.shape)\n",
    "    print(\"Label batch shape: \", label_batch.shape)\n",
    "    break"
   ]
  },
  {
   "cell_type": "code",
   "execution_count": 5,
   "metadata": {},
   "outputs": [
    {
     "name": "stdout",
     "output_type": "stream",
     "text": [
      "20/20 [==============================] - 2s 78ms/step\n"
     ]
    }
   ],
   "source": [
    "predicted_batch = model.predict(image_batch)\n",
    "predicted_id = np.argmax(predicted_batch, axis=-1)\n",
    "label_id = np.argmax(label_batch, axis=-1)"
   ]
  },
  {
   "cell_type": "code",
   "execution_count": 6,
   "metadata": {},
   "outputs": [
    {
     "name": "stdout",
     "output_type": "stream",
     "text": [
      "              precision    recall  f1-score   support\n",
      "\n",
      "    overripe       0.53      0.84      0.65       210\n",
      "        ripe       0.44      0.25      0.32       210\n",
      "      unripe       0.91      0.77      0.83       210\n",
      "\n",
      "    accuracy                           0.62       630\n",
      "   macro avg       0.63      0.62      0.60       630\n",
      "weighted avg       0.63      0.62      0.60       630\n",
      "\n"
     ]
    }
   ],
   "source": [
    "from sklearn.metrics import classification_report\n",
    "target_names = ['overripe', 'ripe', 'unripe']\n",
    "print(classification_report(label_id, predicted_id, zero_division=0, target_names=target_names))"
   ]
  },
  {
   "cell_type": "code",
   "execution_count": 7,
   "metadata": {},
   "outputs": [
    {
     "data": {
      "image/png": "[encoded data removed]",
      "text/plain": [
       "<Figure size 400x400 with 2 Axes>"
      ]
     },
     "metadata": {},
     "output_type": "display_data"
    }
   ],
   "source": [
    "import matplotlib.pyplot as plt\n",
    "import numpy as np; np.random.seed(0)\n",
    "import seaborn as sns; sns.set_theme()\n",
    "\n",
    "# Compute confusion matrix\n",
    "con_mat = tf.math.confusion_matrix(labels=label_id, predictions=predicted_id)\n",
    "\n",
    "# Create the plot\n",
    "figure = plt.figure(figsize=(4,4))\n",
    "sns.heatmap(con_mat, annot=True, fmt='d', cmap=plt.cm.Blues)\n",
    "plt.tight_layout()\n",
    "plt.ylabel('True label')\n",
    "plt.xlabel('Predicted label')\n",
    "plt.show()"
   ]
  },
  {
   "cell_type": "markdown",
   "metadata": {},
   "source": [
    "# Load model"
   ]
  },
  {
   "cell_type": "code",
   "execution_count": 2,
   "metadata": {},
   "outputs": [],
   "source": [
    "# Load the trained model\n",
    "model = load_model(\"C:/Users/chand/Documents/Github/AlexNet/Model/AlexNet.h5\")"
   ]
  }
 ],
 "metadata": {
  "colab": {
   "provenance": []
  },
  "kernelspec": {
   "display_name": "Python 3 (ipykernel)",
   "language": "python",
   "name": "python3"
  },
  "language_info": {
   "codemirror_mode": {
    "name": "ipython",
    "version": 3
   },
   "file_extension": ".py",
   "mimetype": "text/x-python",
   "name": "python",
   "nbconvert_exporter": "python",
   "pygments_lexer": "ipython3",
   "version": "3.10.11"
  }
 },
 "nbformat": 4,
 "nbformat_minor": 4
}
